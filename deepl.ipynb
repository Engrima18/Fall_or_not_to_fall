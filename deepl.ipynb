{
 "cells": [
  {
   "cell_type": "code",
   "execution_count": 76,
   "metadata": {},
   "outputs": [],
   "source": [
    "import tensorflow as tf \n",
    "from tensorflow.keras import layers, models\n",
    "import pandas as pd\n",
    "from sklearn.preprocessing import StandardScaler\n",
    "# from sklearn.preprocessing import OneHotEncoder\n",
    "from sklearn.model_selection import train_test_split\n",
    "import numpy as np\n",
    "from sklearn.preprocessing import LabelEncoder\n",
    "from sklearn.metrics import accuracy_score"
   ]
  },
  {
   "cell_type": "code",
   "execution_count": 7,
   "metadata": {},
   "outputs": [
    {
     "data": {
      "text/plain": [
       "[PhysicalDevice(name='/physical_device:CPU:0', device_type='CPU'),\n",
       " PhysicalDevice(name='/physical_device:GPU:0', device_type='GPU')]"
      ]
     },
     "execution_count": 7,
     "metadata": {},
     "output_type": "execute_result"
    }
   ],
   "source": [
    "tf.config.list_physical_devices()"
   ]
  },
  {
   "cell_type": "code",
   "execution_count": 8,
   "metadata": {},
   "outputs": [
    {
     "name": "stdout",
     "output_type": "stream",
     "text": [
      "1 Physical GPUs, 1 Logical GPU\n"
     ]
    }
   ],
   "source": [
    "gpu = tf.config.list_physical_devices('GPU')\n",
    "if gpu:\n",
    "  # only use the first GPU\n",
    "  try:\n",
    "    tf.config.experimental.set_visible_devices(gpu[0], 'GPU')\n",
    "    logical_gpus = tf.config.experimental.list_logical_devices('GPU')\n",
    "    print(len(gpu), \"Physical GPUs,\", len(logical_gpus), \"Logical GPU\")\n",
    "  except RuntimeError as e:\n",
    "    print(e)"
   ]
  },
  {
   "cell_type": "code",
   "execution_count": 18,
   "metadata": {},
   "outputs": [
    {
     "data": {
      "text/html": [
       "<div>\n",
       "<style scoped>\n",
       "    .dataframe tbody tr th:only-of-type {\n",
       "        vertical-align: middle;\n",
       "    }\n",
       "\n",
       "    .dataframe tbody tr th {\n",
       "        vertical-align: top;\n",
       "    }\n",
       "\n",
       "    .dataframe thead th {\n",
       "        text-align: right;\n",
       "    }\n",
       "</style>\n",
       "<table border=\"1\" class=\"dataframe\">\n",
       "  <thead>\n",
       "    <tr style=\"text-align: right;\">\n",
       "      <th></th>\n",
       "      <th>xAcc</th>\n",
       "      <th>yAcc</th>\n",
       "      <th>zAcc</th>\n",
       "      <th>xGyro</th>\n",
       "      <th>yGyro</th>\n",
       "      <th>zGyro</th>\n",
       "      <th>label</th>\n",
       "    </tr>\n",
       "  </thead>\n",
       "  <tbody>\n",
       "    <tr>\n",
       "      <th>0</th>\n",
       "      <td>6.99</td>\n",
       "      <td>-0.57</td>\n",
       "      <td>-7.28</td>\n",
       "      <td>-2.75</td>\n",
       "      <td>-3.23</td>\n",
       "      <td>2.62</td>\n",
       "      <td>fall</td>\n",
       "    </tr>\n",
       "    <tr>\n",
       "      <th>1</th>\n",
       "      <td>6.51</td>\n",
       "      <td>-0.75</td>\n",
       "      <td>-6.93</td>\n",
       "      <td>-0.67</td>\n",
       "      <td>-6.35</td>\n",
       "      <td>4.64</td>\n",
       "      <td>fall</td>\n",
       "    </tr>\n",
       "    <tr>\n",
       "      <th>2</th>\n",
       "      <td>6.22</td>\n",
       "      <td>-0.63</td>\n",
       "      <td>-6.73</td>\n",
       "      <td>0.79</td>\n",
       "      <td>-5.49</td>\n",
       "      <td>3.85</td>\n",
       "      <td>fall</td>\n",
       "    </tr>\n",
       "    <tr>\n",
       "      <th>3</th>\n",
       "      <td>6.34</td>\n",
       "      <td>-0.62</td>\n",
       "      <td>-6.80</td>\n",
       "      <td>1.59</td>\n",
       "      <td>-2.26</td>\n",
       "      <td>0.67</td>\n",
       "      <td>fall</td>\n",
       "    </tr>\n",
       "    <tr>\n",
       "      <th>4</th>\n",
       "      <td>6.49</td>\n",
       "      <td>-0.39</td>\n",
       "      <td>-6.60</td>\n",
       "      <td>0.67</td>\n",
       "      <td>-0.24</td>\n",
       "      <td>-1.10</td>\n",
       "      <td>fall</td>\n",
       "    </tr>\n",
       "    <tr>\n",
       "      <th>...</th>\n",
       "      <td>...</td>\n",
       "      <td>...</td>\n",
       "      <td>...</td>\n",
       "      <td>...</td>\n",
       "      <td>...</td>\n",
       "      <td>...</td>\n",
       "      <td>...</td>\n",
       "    </tr>\n",
       "    <tr>\n",
       "      <th>96795</th>\n",
       "      <td>7.30</td>\n",
       "      <td>-1.16</td>\n",
       "      <td>-4.58</td>\n",
       "      <td>18.19</td>\n",
       "      <td>3.60</td>\n",
       "      <td>-35.77</td>\n",
       "      <td>light</td>\n",
       "    </tr>\n",
       "    <tr>\n",
       "      <th>96796</th>\n",
       "      <td>7.39</td>\n",
       "      <td>-0.37</td>\n",
       "      <td>-5.05</td>\n",
       "      <td>20.08</td>\n",
       "      <td>0.06</td>\n",
       "      <td>-34.55</td>\n",
       "      <td>light</td>\n",
       "    </tr>\n",
       "    <tr>\n",
       "      <th>96797</th>\n",
       "      <td>7.52</td>\n",
       "      <td>-1.46</td>\n",
       "      <td>-5.82</td>\n",
       "      <td>22.58</td>\n",
       "      <td>0.12</td>\n",
       "      <td>-28.02</td>\n",
       "      <td>light</td>\n",
       "    </tr>\n",
       "    <tr>\n",
       "      <th>96798</th>\n",
       "      <td>7.58</td>\n",
       "      <td>-2.14</td>\n",
       "      <td>-6.31</td>\n",
       "      <td>19.47</td>\n",
       "      <td>2.44</td>\n",
       "      <td>-22.52</td>\n",
       "      <td>light</td>\n",
       "    </tr>\n",
       "    <tr>\n",
       "      <th>96799</th>\n",
       "      <td>7.56</td>\n",
       "      <td>-1.90</td>\n",
       "      <td>-5.89</td>\n",
       "      <td>15.56</td>\n",
       "      <td>3.91</td>\n",
       "      <td>-19.23</td>\n",
       "      <td>light</td>\n",
       "    </tr>\n",
       "  </tbody>\n",
       "</table>\n",
       "<p>96800 rows × 7 columns</p>\n",
       "</div>"
      ],
      "text/plain": [
       "       xAcc  yAcc  zAcc  xGyro  yGyro  zGyro  label\n",
       "0      6.99 -0.57 -7.28  -2.75  -3.23   2.62   fall\n",
       "1      6.51 -0.75 -6.93  -0.67  -6.35   4.64   fall\n",
       "2      6.22 -0.63 -6.73   0.79  -5.49   3.85   fall\n",
       "3      6.34 -0.62 -6.80   1.59  -2.26   0.67   fall\n",
       "4      6.49 -0.39 -6.60   0.67  -0.24  -1.10   fall\n",
       "...     ...   ...   ...    ...    ...    ...    ...\n",
       "96795  7.30 -1.16 -4.58  18.19   3.60 -35.77  light\n",
       "96796  7.39 -0.37 -5.05  20.08   0.06 -34.55  light\n",
       "96797  7.52 -1.46 -5.82  22.58   0.12 -28.02  light\n",
       "96798  7.58 -2.14 -6.31  19.47   2.44 -22.52  light\n",
       "96799  7.56 -1.90 -5.89  15.56   3.91 -19.23  light\n",
       "\n",
       "[96800 rows x 7 columns]"
      ]
     },
     "execution_count": 18,
     "metadata": {},
     "output_type": "execute_result"
    }
   ],
   "source": [
    "#from feature_extraction import flatten_ts\n",
    "\n",
    "data = pd.read_csv(\"data3.csv\")\n",
    "# flat_data = flatten_ts(data)\n",
    "# flat_data\n",
    "data"
   ]
  },
  {
   "cell_type": "code",
   "execution_count": 28,
   "metadata": {},
   "outputs": [],
   "source": [
    "new_data = data.drop(\"label\",axis=1).to_numpy().reshape(-1, 400, 6)\n",
    "labels = np.array(data.label.iloc[np.arange(0,data.shape[0], 400)])"
   ]
  },
  {
   "cell_type": "code",
   "execution_count": 71,
   "metadata": {},
   "outputs": [],
   "source": [
    "X_train, X_test, y_train, y_test = train_test_split(new_data, labels)\n",
    "# scaler = StandardScaler()\n",
    "# X_train = scaler.fit_transform(X_train.astype(np.float64))\n",
    "# X_test = scaler.fit_transform(X_test.astype(np.float64))\n",
    "\n",
    "le = LabelEncoder()\n",
    "le.fit(np.unique(y_train))\n",
    "y_train = le.transform(y_train)\n",
    "y_test = le.transform(y_test)\n",
    "y_train = tf.keras.utils.to_categorical(y_train, num_classes=7)\n",
    "y_test = tf.keras.utils.to_categorical(y_test, num_classes=7)\n",
    "\n",
    "seq_len, n_features = X_train.shape[1:]\n",
    "\n",
    "X_train = X_train.reshape(-1, seq_len, n_features) \n",
    "X_test = X_test.reshape(-1, seq_len, n_features)"
   ]
  },
  {
   "cell_type": "code",
   "execution_count": 63,
   "metadata": {},
   "outputs": [
    {
     "data": {
      "text/plain": [
       "(181, 400, 6)"
      ]
     },
     "execution_count": 63,
     "metadata": {},
     "output_type": "execute_result"
    }
   ],
   "source": [
    "X_train.shape"
   ]
  },
  {
   "cell_type": "markdown",
   "metadata": {},
   "source": [
    "# First CNN"
   ]
  },
  {
   "cell_type": "code",
   "execution_count": 72,
   "metadata": {},
   "outputs": [],
   "source": [
    "first_model = models.Sequential([\n",
    "    layers.Conv1D(32, kernel_size=3, activation='relu', input_shape=(seq_len, n_features)),\n",
    "    layers.MaxPooling1D(pool_size=2),\n",
    "    layers.Flatten(),\n",
    "    layers.Dense(64, activation='relu'),\n",
    "    layers.Dense(7, activation='sigmoid')  # Output layer for binary classification\n",
    "])"
   ]
  },
  {
   "cell_type": "code",
   "execution_count": 73,
   "metadata": {},
   "outputs": [],
   "source": [
    "first_model.compile(optimizer=\"adam\", loss=\"categorical_crossentropy\", metrics=['accuracy'])"
   ]
  },
  {
   "cell_type": "code",
   "execution_count": 74,
   "metadata": {},
   "outputs": [
    {
     "name": "stdout",
     "output_type": "stream",
     "text": [
      "Model: \"sequential_5\"\n",
      "_________________________________________________________________\n",
      "Layer (type)                 Output Shape              Param #   \n",
      "=================================================================\n",
      "conv1d_4 (Conv1D)            (None, 398, 32)           608       \n",
      "_________________________________________________________________\n",
      "max_pooling1d_4 (MaxPooling1 (None, 199, 32)           0         \n",
      "_________________________________________________________________\n",
      "flatten_4 (Flatten)          (None, 6368)              0         \n",
      "_________________________________________________________________\n",
      "dense_10 (Dense)             (None, 64)                407616    \n",
      "_________________________________________________________________\n",
      "dense_11 (Dense)             (None, 7)                 455       \n",
      "=================================================================\n",
      "Total params: 408,679\n",
      "Trainable params: 408,679\n",
      "Non-trainable params: 0\n",
      "_________________________________________________________________\n"
     ]
    }
   ],
   "source": [
    "first_model.summary()"
   ]
  },
  {
   "cell_type": "code",
   "execution_count": 81,
   "metadata": {},
   "outputs": [
    {
     "name": "stdout",
     "output_type": "stream",
     "text": [
      "Epoch 1/10\n",
      "6/6 [==============================] - 0s 43ms/step - loss: 0.9238 - accuracy: 0.9116 - val_loss: 1.9449 - val_accuracy: 0.7213\n",
      "Epoch 2/10\n",
      "6/6 [==============================] - 0s 11ms/step - loss: 0.3300 - accuracy: 0.9392 - val_loss: 1.6764 - val_accuracy: 0.7541\n",
      "Epoch 3/10\n",
      "6/6 [==============================] - 0s 12ms/step - loss: 0.2489 - accuracy: 0.9558 - val_loss: 1.5600 - val_accuracy: 0.6721\n",
      "Epoch 4/10\n",
      "6/6 [==============================] - 0s 10ms/step - loss: 0.0653 - accuracy: 0.9834 - val_loss: 1.4410 - val_accuracy: 0.7869\n",
      "Epoch 5/10\n",
      "6/6 [==============================] - 0s 9ms/step - loss: 0.0249 - accuracy: 0.9945 - val_loss: 1.3878 - val_accuracy: 0.7541\n",
      "Epoch 6/10\n",
      "6/6 [==============================] - 0s 11ms/step - loss: 0.0147 - accuracy: 1.0000 - val_loss: 1.4257 - val_accuracy: 0.7541\n",
      "Epoch 7/10\n",
      "6/6 [==============================] - 0s 10ms/step - loss: 0.0078 - accuracy: 1.0000 - val_loss: 1.4809 - val_accuracy: 0.7213\n",
      "Epoch 8/10\n",
      "6/6 [==============================] - 0s 12ms/step - loss: 0.0054 - accuracy: 1.0000 - val_loss: 1.5202 - val_accuracy: 0.7213\n",
      "Epoch 9/10\n",
      "6/6 [==============================] - 0s 9ms/step - loss: 0.0042 - accuracy: 1.0000 - val_loss: 1.5444 - val_accuracy: 0.7213\n",
      "Epoch 10/10\n",
      "6/6 [==============================] - 0s 9ms/step - loss: 0.0036 - accuracy: 1.0000 - val_loss: 1.5640 - val_accuracy: 0.7213\n"
     ]
    },
    {
     "data": {
      "text/plain": [
       "<tensorflow.python.keras.callbacks.History at 0x14857163ee0>"
      ]
     },
     "execution_count": 81,
     "metadata": {},
     "output_type": "execute_result"
    }
   ],
   "source": [
    "first_model.fit(X_train, y_train, epochs=10, validation_data=(X_test, y_test))"
   ]
  },
  {
   "cell_type": "code",
   "execution_count": 82,
   "metadata": {},
   "outputs": [
    {
     "name": "stdout",
     "output_type": "stream",
     "text": [
      "2/2 [==============================] - 0s 4ms/step - loss: 1.5640 - accuracy: 0.7213\n"
     ]
    },
    {
     "data": {
      "text/plain": [
       "[1.5639760494232178, 0.7213114500045776]"
      ]
     },
     "execution_count": 82,
     "metadata": {},
     "output_type": "execute_result"
    }
   ],
   "source": [
    "first_model.evaluate(X_test, y_test)"
   ]
  }
 ],
 "metadata": {
  "kernelspec": {
   "display_name": "deepl",
   "language": "python",
   "name": "python3"
  },
  "language_info": {
   "codemirror_mode": {
    "name": "ipython",
    "version": 3
   },
   "file_extension": ".py",
   "mimetype": "text/x-python",
   "name": "python",
   "nbconvert_exporter": "python",
   "pygments_lexer": "ipython3",
   "version": "3.9.18"
  },
  "orig_nbformat": 4
 },
 "nbformat": 4,
 "nbformat_minor": 2
}
